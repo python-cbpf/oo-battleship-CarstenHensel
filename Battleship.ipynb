{
 "cells": [
  {
   "cell_type": "code",
   "execution_count": 75,
   "metadata": {},
   "outputs": [],
   "source": [
    "import numpy as np"
   ]
  },
  {
   "cell_type": "code",
   "execution_count": 76,
   "metadata": {},
   "outputs": [],
   "source": [
    "DIM = 10"
   ]
  },
  {
   "cell_type": "code",
   "execution_count": 77,
   "metadata": {},
   "outputs": [],
   "source": [
    "class Player():\n",
    "    \"\"\"Class representing a player in a game of battleship.\"\"\"\n",
    "    def __init__(self, name=\"dummy\"):\n",
    "        \"\"\"a player object is initialized with the name of the player\"\"\"\n",
    "        self.player_name = name\n",
    "        self.seamap = Map()\n",
    "        self.enemymap = Map()\n",
    "        self.fleet = Fleet()\n",
    "    \n",
    "    def display_map(self):\n",
    "        \"\"\"method to visualize player's map\"\"\"\n",
    "        self.seamap.display()\n",
    "    \n",
    "    def place_ships(self):\n",
    "        \"\"\"before the game start this method places the ships\"\"\"\n",
    "        for key, ship in self.fleet.ships.items():\n",
    "            while not ship.valid_position():\n",
    "                xloc = int(input(key + \" x location \"))\n",
    "                yloc = int(input(key + \" y location \"))\n",
    "                \n",
    "                orientation = input(key + \" orientation \") \n",
    "                ship.set_location((xloc, yloc))\n",
    "                ship.set_orientation(orientation)\n",
    "                self.seamap.place_ship(ship)\n",
    "                self.display_map()\n",
    "    \n",
    "    def shoot(self):\n",
    "        \"\"\"don't forget a docstring\"\"\"\n",
    "        pass\n",
    "    \n",
    "    def evaluate(self, other_player_map):\n",
    "        \"\"\"don't forget a docstring\"\"\"\n",
    "        pass\n",
    "    \n",
    "    def record(self):\n",
    "        \"\"\"don't forget a docstring\"\"\"\n",
    "        pass\n",
    "    \n",
    "    def has_lost(self):\n",
    "        return self.fleet.destroyed()"
   ]
  },
  {
   "cell_type": "code",
   "execution_count": 78,
   "metadata": {},
   "outputs": [],
   "source": [
    "class Map():\n",
    "    def __init__(self):\n",
    "        self.karte = np.zeros(shape=(DIM, DIM), dtype=int)\n",
    "        populated_cells = {}\n",
    "        \n",
    "    def place_ship(self, ship):\n",
    "        x = tmp_x = ship.get_np_x()\n",
    "        y = tmp_y = ship.get_np_y()\n",
    "        tmp_list = []\n",
    "        for i in range(ship.size):\n",
    "            if ship.get_orientation() == 'v':\n",
    "                tmp_x = x + i\n",
    "            else:\n",
    "                tmp_y = y + i\n",
    "            tmp_list.append((tmp_x, tmp_y))\n",
    "    \n",
    "        try:\n",
    "            if Map.lists_overlap(tmp_list, self.get_populated_cell_coordinates()):\n",
    "                raise Exception('Ship positions overlap')\n",
    "            else:\n",
    "                for tmp_x, tmp_y in tmp_list:\n",
    "                    self.populated_cells[(tmp_x, tmpy)] = ship.name\n",
    "                    self.karte[tmp_x][tmp_y] = 1\n",
    "        except Exception as inst:\n",
    "            print(type(inst)) \n",
    "            \n",
    "    @classmethod\n",
    "    def lists_overlap(cls, lst1, lst2):\n",
    "        return bool([value for value in lst1 if value in lst2])\n",
    "            \n",
    "    def display(self):\n",
    "        print(self.karte)\n",
    "        \n",
    "    def get_populated_cell_coordinates(self):\n",
    "        return self.populated_cells.keys()\n",
    "    \n",
    "        "
   ]
  },
  {
   "cell_type": "code",
   "execution_count": 79,
   "metadata": {},
   "outputs": [],
   "source": [
    "class Location():\n",
    "    def __init__(self, coordinates):\n",
    "        self.x_location = coordinates[0] - 1\n",
    "        self.y_location = coordinates[1] - 1\n",
    "        \n",
    "    def set_np_x(self, x_coordinate):\n",
    "        self.x_location = x_coordinaterdinate - 1\n",
    "    \n",
    "    def set_np_y(self, y_coordinate):\n",
    "        self.y_location = y_coordinate - 1\n",
    "    \n",
    "    def get_np_x(self):\n",
    "        return self.x_location\n",
    "    \n",
    "    def get_np_y(self):\n",
    "        return self.y_location\n",
    "    \n",
    "    def get_x_coordinate(self):\n",
    "        return (self.x_location + 1)\n",
    "    \n",
    "    def get_y_coordinate(self):\n",
    "        return (self.y_location + 1)\n",
    "    \n",
    "    def is_valid(self):\n",
    "        is_valid = False\n",
    "        if (0 <= self.get_np_x() <= DIM - 1) and (0 <= self.get_np_y() <= DIM - 1):\n",
    "            is_valid = True\n",
    "        return is_valid\n",
    "    \n",
    "class Orientation():\n",
    "    def __init__(self, orientation_str):\n",
    "        if orientation_str.lower()[0] == 'v':\n",
    "            self.orientation = 'v'\n",
    "        elif orientation_str.lower()[0] == 'h':\n",
    "            self.orientation = 'h'\n",
    "            \n",
    "    def get_orientation(self):\n",
    "        return self.orientation\n",
    "            \n",
    "    def is_valid(self):\n",
    "        return (self.orientation == 'v' or self.orientation == 'h')\n",
    "\n",
    "class Position():\n",
    "    def __init__(self, location=None, orientation=None):\n",
    "        self.location = Location(location)\n",
    "        self.orientation = Orientation(orientation)\n",
    "        \n",
    "    def set_location(self, coordinates):\n",
    "        self.location = Location(coordinates)\n",
    "        \n",
    "    def set_orientation(self, orientation):\n",
    "        self.orientation = Orientation(orientation)\n",
    "        \n",
    "    def is_valid(self):\n",
    "        return (self.location.is_valid() and self.orientation.is_valid())"
   ]
  },
  {
   "cell_type": "code",
   "execution_count": 80,
   "metadata": {},
   "outputs": [],
   "source": [
    "class Ship():\n",
    "    \"\"\"Class representing a ship in a game of battleship.\"\"\"\n",
    "    def __init__(self, name=None, size=None):\n",
    "        self.size = size\n",
    "        self.name = name\n",
    "        self.hits = [0] * self.size\n",
    "        self.position = Position((-1, -1), 'x')\n",
    "        \n",
    "    def set_orientation(self, orientation_str):\n",
    "        self.position.set_orientation(orientation_str)\n",
    "        \n",
    "    def set_location(self, coordinates):\n",
    "        self.position.set_location(coordinates)\n",
    "        \n",
    "    def destroyed(self):\n",
    "        return (self.hits.count(0) == 0)\n",
    "        \n",
    "    def get_np_x(self):\n",
    "        return self.position.location.get_np_x()\n",
    "    \n",
    "    def get_np_y(self):\n",
    "        return self.position.location.get_np_y()\n",
    "    \n",
    "    def get_orientation(self):\n",
    "        return self.position.orientation.get_orientation()\n",
    "    \n",
    "    def valid_position(self):\n",
    "        return self.position.is_valid()"
   ]
  },
  {
   "cell_type": "code",
   "execution_count": 81,
   "metadata": {},
   "outputs": [],
   "source": [
    "class Fleet():\n",
    "#    ship_properties = [('carrier', 5),\\\n",
    "#                       ('battleship', 4),\\\n",
    "#                       ('cruiser', 3),\\\n",
    "#                       ('submarine', 3),\\\n",
    "#                       ('destroyer', 2)]\n",
    "    ship_properties = [('carrier', 5), ('battleship', 4)]\n",
    "    def __init__(self):\n",
    "        self.ships = {}\n",
    "        for properties in Fleet.ship_properties:\n",
    "            self.ships[properties[0]] = Ship(properties[0], properties[1])\n",
    "            \n",
    "            \n",
    "    def destroyed(self):\n",
    "        destroyed = True\n",
    "        for name, ship in self.ships.items():\n",
    "            if not ship.destroyed():\n",
    "                destroyed = False\n",
    "        \n",
    "        return destroyed\n",
    "    "
   ]
  },
  {
   "cell_type": "code",
   "execution_count": 82,
   "metadata": {},
   "outputs": [
    {
     "name": "stdout",
     "output_type": "stream",
     "text": [
      "carrier x location 1\n",
      "carrier y location 2\n",
      "carrier orientation v\n",
      "<class 'AttributeError'>\n",
      "[[0 0 0 0 0 0 0 0 0 0]\n",
      " [0 0 0 0 0 0 0 0 0 0]\n",
      " [0 0 0 0 0 0 0 0 0 0]\n",
      " [0 0 0 0 0 0 0 0 0 0]\n",
      " [0 0 0 0 0 0 0 0 0 0]\n",
      " [0 0 0 0 0 0 0 0 0 0]\n",
      " [0 0 0 0 0 0 0 0 0 0]\n",
      " [0 0 0 0 0 0 0 0 0 0]\n",
      " [0 0 0 0 0 0 0 0 0 0]\n",
      " [0 0 0 0 0 0 0 0 0 0]]\n",
      "battleship x location 1\n",
      "battleship y location 2\n",
      "battleship orientation v\n",
      "<class 'AttributeError'>\n",
      "[[0 0 0 0 0 0 0 0 0 0]\n",
      " [0 0 0 0 0 0 0 0 0 0]\n",
      " [0 0 0 0 0 0 0 0 0 0]\n",
      " [0 0 0 0 0 0 0 0 0 0]\n",
      " [0 0 0 0 0 0 0 0 0 0]\n",
      " [0 0 0 0 0 0 0 0 0 0]\n",
      " [0 0 0 0 0 0 0 0 0 0]\n",
      " [0 0 0 0 0 0 0 0 0 0]\n",
      " [0 0 0 0 0 0 0 0 0 0]\n",
      " [0 0 0 0 0 0 0 0 0 0]]\n"
     ]
    }
   ],
   "source": [
    "player1 = Player('Alice')\n",
    "player1.place_ships()"
   ]
  },
  {
   "cell_type": "code",
   "execution_count": 14,
   "metadata": {},
   "outputs": [],
   "source": [
    "def main():\n",
    "    # create players\n",
    "    player1 = Player('Alice')\n",
    "    player2 = Player('Bob')\n",
    "    \n",
    "    # place ships\n",
    "    player1.place_ships()\n",
    "    player2.place_ships()\n",
    "    \n",
    "    while (not player1.has_lost()) and (not player2.has_lost()):\n",
    "        # game loop\n",
    "        # player 1: shoot\n",
    "        # player 1: evaluate\n",
    "        player1.evaluate(player2.seamap)\n",
    "        # player 1: record\n",
    "        # player 2: shoot\n",
    "        # player 2: evaluate\n",
    "        # player 2: record\n",
    "        \n",
    "    if player1.has_lost():\n",
    "        print(\"player 2 wins\")\n",
    "    else:\n",
    "        print(\"player 1 wins\")"
   ]
  },
  {
   "cell_type": "code",
   "execution_count": 24,
   "metadata": {},
   "outputs": [
    {
     "name": "stdout",
     "output_type": "stream",
     "text": [
      "namehallo\n"
     ]
    }
   ],
   "source": [
    " var = input(\"name\")"
   ]
  },
  {
   "cell_type": "code",
   "execution_count": 25,
   "metadata": {},
   "outputs": [
    {
     "name": "stdout",
     "output_type": "stream",
     "text": [
      "hallo\n"
     ]
    }
   ],
   "source": [
    "print(var)"
   ]
  },
  {
   "cell_type": "code",
   "execution_count": null,
   "metadata": {},
   "outputs": [],
   "source": []
  }
 ],
 "metadata": {
  "kernelspec": {
   "display_name": "Python 3",
   "language": "python",
   "name": "python3"
  },
  "language_info": {
   "codemirror_mode": {
    "name": "ipython",
    "version": 3
   },
   "file_extension": ".py",
   "mimetype": "text/x-python",
   "name": "python",
   "nbconvert_exporter": "python",
   "pygments_lexer": "ipython3",
   "version": "3.7.4"
  }
 },
 "nbformat": 4,
 "nbformat_minor": 2
}
